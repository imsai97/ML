{
 "cells": [
  {
   "cell_type": "code",
   "execution_count": 1,
   "id": "2203da52",
   "metadata": {},
   "outputs": [],
   "source": [
    "# Import Libararies\n",
    "import pandas as pd\n",
    "import numpy as np\n",
    "import sklearn\n",
    "from sklearn import datasets"
   ]
  },
  {
   "cell_type": "code",
   "execution_count": 2,
   "id": "0f9ed2d4",
   "metadata": {},
   "outputs": [],
   "source": [
    "# Load the dataset\n",
    "iris=datasets.load_iris()\n",
    "X=iris.data\n",
    "Y=iris.target"
   ]
  },
  {
   "cell_type": "code",
   "execution_count": 3,
   "id": "81ecc30e",
   "metadata": {},
   "outputs": [
    {
     "data": {
      "text/plain": [
       "array(['setosa', 'versicolor', 'virginica'], dtype='<U10')"
      ]
     },
     "execution_count": 3,
     "metadata": {},
     "output_type": "execute_result"
    }
   ],
   "source": [
    "# visualizing the dataset\n",
    "iris.target_names"
   ]
  },
  {
   "cell_type": "code",
   "execution_count": 4,
   "id": "8fd32103",
   "metadata": {},
   "outputs": [
    {
     "data": {
      "text/plain": [
       "['sepal length (cm)',\n",
       " 'sepal width (cm)',\n",
       " 'petal length (cm)',\n",
       " 'petal width (cm)']"
      ]
     },
     "execution_count": 4,
     "metadata": {},
     "output_type": "execute_result"
    }
   ],
   "source": [
    "# Feature names\n",
    "iris.feature_names"
   ]
  },
  {
   "cell_type": "code",
   "execution_count": 5,
   "id": "d5c8ee95",
   "metadata": {},
   "outputs": [
    {
     "data": {
      "text/plain": [
       "array([[5.1, 3.5, 1.4, 0.2],\n",
       "       [4.9, 3. , 1.4, 0.2],\n",
       "       [4.7, 3.2, 1.3, 0.2],\n",
       "       [4.6, 3.1, 1.5, 0.2],\n",
       "       [5. , 3.6, 1.4, 0.2]])"
      ]
     },
     "execution_count": 5,
     "metadata": {},
     "output_type": "execute_result"
    }
   ],
   "source": [
    "iris.data[0:5]"
   ]
  },
  {
   "cell_type": "code",
   "execution_count": 6,
   "id": "7cb075ca",
   "metadata": {},
   "outputs": [],
   "source": [
    "# Splitting the Dataset\n",
    "from sklearn.model_selection import train_test_split\n",
    "Xtrain,Xtest,Ytrain,Ytest=train_test_split(X,Y,test_size=0.3)"
   ]
  },
  {
   "cell_type": "code",
   "execution_count": 7,
   "id": "30a907bb",
   "metadata": {},
   "outputs": [],
   "source": [
    "# Building AdaBoost Model\n",
    "from sklearn.ensemble import AdaBoostClassifier\n",
    "ADB=AdaBoostClassifier()\n",
    "model=ADB.fit(Xtrain,Ytrain)"
   ]
  },
  {
   "cell_type": "code",
   "execution_count": 13,
   "id": "f51d9ae2",
   "metadata": {},
   "outputs": [
    {
     "data": {
      "text/plain": [
       "array([0, 1, 1, 0, 0, 2, 0, 2, 2, 0, 1, 1, 1, 1, 1, 1, 1, 2, 2, 0, 1, 0,\n",
       "       1, 2, 0, 0, 0, 1, 2, 2, 0, 0, 0, 1, 0, 1, 1, 1, 0, 1, 0, 1, 2, 0,\n",
       "       0])"
      ]
     },
     "execution_count": 13,
     "metadata": {},
     "output_type": "execute_result"
    }
   ],
   "source": [
    "# Sample Prediction\n",
    "y_pred=model.predict(Xtest)\n",
    "y_pred"
   ]
  },
  {
   "cell_type": "code",
   "execution_count": 14,
   "id": "9c7525b5",
   "metadata": {},
   "outputs": [
    {
     "name": "stdout",
     "output_type": "stream",
     "text": [
      "*************  confusion matirx  ***************\n",
      "[[18  0  0]\n",
      " [ 0 15  1]\n",
      " [ 0  3  8]]\n",
      "\n",
      "*************  Classification Report  ***************\n",
      "              precision    recall  f1-score   support\n",
      "\n",
      "           0       1.00      1.00      1.00        18\n",
      "           1       0.83      0.94      0.88        16\n",
      "           2       0.89      0.73      0.80        11\n",
      "\n",
      "    accuracy                           0.91        45\n",
      "   macro avg       0.91      0.89      0.89        45\n",
      "weighted avg       0.91      0.91      0.91        45\n",
      "\n",
      "*************  Accuracy Score  ***************\n",
      "0.9111111111111111\n"
     ]
    }
   ],
   "source": [
    "# Evaluating the AdaBoost model\n",
    "from sklearn.metrics import confusion_matrix,classification_report,accuracy_score\n",
    "print('*************  confusion matirx  ***************')\n",
    "print(confusion_matrix(Ytest,y_pred))\n",
    "print('\\n*************  Classification Report  ***************')\n",
    "print(classification_report(Ytest,y_pred))\n",
    "print('*************  Accuracy Score  ***************')\n",
    "print(accuracy_score(Ytest,y_pred))"
   ]
  },
  {
   "cell_type": "code",
   "execution_count": 15,
   "id": "ab0f0e51",
   "metadata": {},
   "outputs": [],
   "source": [
    "# Parameter Tuning using Base estimator\n",
    "from sklearn.svm import SVC\n",
    "from sklearn.ensemble import AdaBoostClassifier\n",
    "svc=SVC(probability=True,kernel='linear')\n",
    "ADB=AdaBoostClassifier(n_estimators=100, base_estimator=svc, learning_rate=0.01)"
   ]
  },
  {
   "cell_type": "code",
   "execution_count": 16,
   "id": "0aba71e2",
   "metadata": {},
   "outputs": [
    {
     "data": {
      "text/plain": [
       "array([0, 1, 1, 0, 0, 2, 0, 2, 2, 0, 1, 1, 1, 2, 1, 1, 1, 2, 2, 0, 1, 0,\n",
       "       1, 2, 0, 0, 0, 1, 2, 2, 0, 0, 0, 1, 0, 1, 1, 1, 0, 1, 0, 1, 2, 0,\n",
       "       0])"
      ]
     },
     "execution_count": 16,
     "metadata": {},
     "output_type": "execute_result"
    }
   ],
   "source": [
    "# Training and Predicting AdaBoost Classifier\n",
    "model=ADB.fit(Xtrain,Ytrain)\n",
    "y_pred=model.predict(Xtest)\n",
    "y_pred"
   ]
  },
  {
   "cell_type": "code",
   "execution_count": 18,
   "id": "8bf12d9c",
   "metadata": {},
   "outputs": [
    {
     "name": "stdout",
     "output_type": "stream",
     "text": [
      "*************  confusion matirx  ***************\n",
      "[[18  0  0]\n",
      " [ 0 15  1]\n",
      " [ 0  2  9]]\n",
      "\n",
      "*************  Classification Report  ***************\n",
      "              precision    recall  f1-score   support\n",
      "\n",
      "           0       1.00      1.00      1.00        18\n",
      "           1       0.88      0.94      0.91        16\n",
      "           2       0.90      0.82      0.86        11\n",
      "\n",
      "    accuracy                           0.93        45\n",
      "   macro avg       0.93      0.92      0.92        45\n",
      "weighted avg       0.93      0.93      0.93        45\n",
      "\n",
      "*************  Accuracy Score  ***************\n",
      "0.9333333333333333\n"
     ]
    }
   ],
   "source": [
    "# Evaluating the AdaBoost Classifier\n",
    "print('*************  confusion matirx  ***************')\n",
    "print(confusion_matrix(Ytest,y_pred))\n",
    "print('\\n*************  Classification Report  ***************')\n",
    "print(classification_report(Ytest,y_pred))\n",
    "print('*************  Accuracy Score  ***************')\n",
    "print(accuracy_score(Ytest,y_pred))"
   ]
  }
 ],
 "metadata": {
  "kernelspec": {
   "display_name": "Python 3 (ipykernel)",
   "language": "python",
   "name": "python3"
  },
  "language_info": {
   "codemirror_mode": {
    "name": "ipython",
    "version": 3
   },
   "file_extension": ".py",
   "mimetype": "text/x-python",
   "name": "python",
   "nbconvert_exporter": "python",
   "pygments_lexer": "ipython3",
   "version": "3.9.12"
  }
 },
 "nbformat": 4,
 "nbformat_minor": 5
}
