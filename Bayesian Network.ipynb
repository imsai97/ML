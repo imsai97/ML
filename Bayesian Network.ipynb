{
 "cells": [
  {
   "cell_type": "code",
   "execution_count": 6,
   "id": "9af89722",
   "metadata": {},
   "outputs": [
    {
     "ename": "ModuleNotFoundError",
     "evalue": "No module named 'pandas'",
     "output_type": "error",
     "traceback": [
      "\u001b[1;31m---------------------------------------------------------------------------\u001b[0m",
      "\u001b[1;31mModuleNotFoundError\u001b[0m                       Traceback (most recent call last)",
      "Cell \u001b[1;32mIn[6], line 2\u001b[0m\n\u001b[0;32m      1\u001b[0m \u001b[39m# Import packages\u001b[39;00m\n\u001b[1;32m----> 2\u001b[0m \u001b[39mimport\u001b[39;00m \u001b[39mpandas\u001b[39;00m \u001b[39mas\u001b[39;00m \u001b[39mpd\u001b[39;00m\n\u001b[0;32m      3\u001b[0m \u001b[39mfrom\u001b[39;00m \u001b[39mpgmpy\u001b[39;00m\u001b[39m.\u001b[39;00m\u001b[39mestimators\u001b[39;00m \u001b[39mimport\u001b[39;00m MaximumLikelihoodEstimator\n\u001b[0;32m      4\u001b[0m \u001b[39mfrom\u001b[39;00m \u001b[39mpgmpy\u001b[39;00m\u001b[39m.\u001b[39;00m\u001b[39mmodels\u001b[39;00m \u001b[39mimport\u001b[39;00m BayesianModel\n",
      "\u001b[1;31mModuleNotFoundError\u001b[0m: No module named 'pandas'"
     ]
    }
   ],
   "source": [
    "# Import packages\n",
    "import pandas as pd\n",
    "from pgmpy.estimators import MaximumLikelihoodEstimator\n",
    "from pgmpy.models import BayesianModel\n",
    "from pgmpy.inference import VariableElimination"
   ]
  },
  {
   "cell_type": "code",
   "execution_count": 2,
   "id": "9cacd34d",
   "metadata": {},
   "outputs": [
    {
     "name": "stdout",
     "output_type": "stream",
     "text": [
      "    age  Gender  Family  diet  Lifestyle  cholestrol  heartdisease\n",
      "0     0       0       1     1          3           0             1\n",
      "1     0       1       1     1          3           0             1\n",
      "2     1       0       0     0          2           1             1\n",
      "3     4       0       1     1          3           2             0\n",
      "4     3       1       1     0          0           2             0\n",
      "5     2       0       1     1          1           0             1\n",
      "6     4       0       1     0          2           0             1\n",
      "7     0       0       1     1          3           0             1\n",
      "8     3       1       1     0          0           2             0\n",
      "9     1       1       0     0          0           2             1\n",
      "10    4       1       0     1          2           0             1\n",
      "11    4       0       1     1          3           2             0\n",
      "12    2       1       0     0          0           0             0\n",
      "13    2       0       1     1          1           0             1\n",
      "14    3       1       1     0          0           1             0\n",
      "15    0       0       1     0          0           2             1\n",
      "16    1       1       0     1          2           1             1\n",
      "17    3       1       1     1          0           1             0\n",
      "18    4       0       1     1          3           2             0\n"
     ]
    }
   ],
   "source": [
    "# Import Dataset\n",
    "data = pd.read_csv(\"heartdisease.csv\")\n",
    "heart_disease = pd.DataFrame(data)\n",
    "print(heart_disease)"
   ]
  },
  {
   "cell_type": "code",
   "execution_count": 3,
   "id": "9f2f4e45",
   "metadata": {},
   "outputs": [
    {
     "name": "stderr",
     "output_type": "stream",
     "text": [
      "C:\\Users\\bveer\\anaconda3\\lib\\site-packages\\pgmpy\\models\\BayesianModel.py:8: FutureWarning: BayesianModel has been renamed to BayesianNetwork. Please use BayesianNetwork class, BayesianModel will be removed in future.\n",
      "  warnings.warn(\n"
     ]
    }
   ],
   "source": [
    "# Customize Dataset\n",
    "model = BayesianModel([\n",
    "    ('age', 'Lifestyle'),\n",
    "    ('Gender', 'Lifestyle'),\n",
    "    ('Family', 'heartdisease'),\n",
    "    ('diet', 'cholestrol'),\n",
    "    ('Lifestyle', 'diet'),\n",
    "    ('cholestrol', 'heartdisease'),\n",
    "    ('diet', 'cholestrol')\n",
    "])"
   ]
  },
  {
   "cell_type": "code",
   "execution_count": 4,
   "id": "da1d9e8b",
   "metadata": {},
   "outputs": [],
   "source": [
    "# Fit the model\n",
    "model.fit(heart_disease, estimator=MaximumLikelihoodEstimator)\n",
    "HeartDisease_infer = VariableElimination(model)"
   ]
  },
  {
   "cell_type": "code",
   "execution_count": 5,
   "id": "d7b1ed45",
   "metadata": {},
   "outputs": [
    {
     "name": "stdout",
     "output_type": "stream",
     "text": [
      "For Age enter SuperSeniorCitizen:0, SeniorCitizen:1, MiddleAged:2, Youth:3, Teen:4\n",
      "For Gender enter Male:0, Female:1\n",
      "For Family History enter Yes:1, No:0\n",
      "For Diet enter High:0, Medium:1\n",
      "for LifeStyle enter Athlete:0, Active:1, Moderate:2, Sedentary:3\n",
      "for Cholesterol enter High:0, BorderLine:1, Normal:2\n"
     ]
    }
   ],
   "source": [
    "# Instructions for giving input\n",
    "print('For Age enter SuperSeniorCitizen:0, SeniorCitizen:1, MiddleAged:2, Youth:3, Teen:4')\n",
    "print('For Gender enter Male:0, Female:1')\n",
    "print('For Family History enter Yes:1, No:0')\n",
    "print('For Diet enter High:0, Medium:1')\n",
    "print('for LifeStyle enter Athlete:0, Active:1, Moderate:2, Sedentary:3')\n",
    "print('for Cholesterol enter High:0, BorderLine:1, Normal:2')"
   ]
  },
  {
   "cell_type": "code",
   "execution_count": 6,
   "id": "4049b9c2",
   "metadata": {},
   "outputs": [
    {
     "name": "stdout",
     "output_type": "stream",
     "text": [
      "Enter Age: 3\n",
      "Enter Gender: 0\n",
      "Enter Family History: 1\n",
      "Enter Diet: 1\n",
      "Enter Lifestyle: 1\n",
      "Enter Cholestrol: 2\n",
      "+-----------------+---------------------+\n",
      "| heartdisease    |   phi(heartdisease) |\n",
      "+=================+=====================+\n",
      "| heartdisease(0) |              0.8333 |\n",
      "+-----------------+---------------------+\n",
      "| heartdisease(1) |              0.1667 |\n",
      "+-----------------+---------------------+\n"
     ]
    },
    {
     "name": "stderr",
     "output_type": "stream",
     "text": [
      "C:\\Users\\bveer\\anaconda3\\lib\\site-packages\\pgmpy\\models\\BayesianModel.py:8: FutureWarning: BayesianModel has been renamed to BayesianNetwork. Please use BayesianNetwork class, BayesianModel will be removed in future.\n",
      "  warnings.warn(\n"
     ]
    }
   ],
   "source": [
    "# using the model and prediction heart disease\n",
    "q = HeartDisease_infer.query(variables=['heartdisease'], evidence={\n",
    "    'age': int(input('Enter Age: ')),\n",
    "    'Gender': int(input('Enter Gender: ')),\n",
    "    'Family': int(input('Enter Family History: ')),\n",
    "    'diet': int(input('Enter Diet: ')),\n",
    "    'Lifestyle': int(input('Enter Lifestyle: ')),\n",
    "    'cholestrol': int(input('Enter Cholestrol: '))\n",
    "})\n",
    "\n",
    "print(q)"
   ]
  }
 ],
 "metadata": {
  "kernelspec": {
   "display_name": "Python 3 (ipykernel)",
   "language": "python",
   "name": "python3"
  },
  "language_info": {
   "codemirror_mode": {
    "name": "ipython",
    "version": 3
   },
   "file_extension": ".py",
   "mimetype": "text/x-python",
   "name": "python",
   "nbconvert_exporter": "python",
   "pygments_lexer": "ipython3",
   "version": "3.11.3"
  }
 },
 "nbformat": 4,
 "nbformat_minor": 5
}
